{
 "cells": [
  {
   "cell_type": "code",
   "execution_count": 24,
   "metadata": {},
   "outputs": [],
   "source": [
    "from __future__ import division\n",
    "import numpy as np\n",
    "import matplotlib.pyplot as plt\n",
    "%matplotlib inline"
   ]
  },
  {
   "cell_type": "code",
   "execution_count": 25,
   "metadata": {},
   "outputs": [],
   "source": [
    "def hitung_error(nilai_sekarang,nilai_sebelumnya):\n",
    "    return abs(nilai_sekarang - nilai_sebelumnya)/nilai_sekarang * 100"
   ]
  },
  {
   "cell_type": "code",
   "execution_count": 26,
   "metadata": {},
   "outputs": [],
   "source": [
    "#f = lambda x : x * np.exp(-x / 2) - 0.5\n",
    "f = lambda x : (np.exp(x))- (3*(x)) - 0.5"
   ]
  },
  {
   "cell_type": "code",
   "execution_count": 32,
   "metadata": {},
   "outputs": [],
   "source": [
    "def Metode_secant(f,xi,xu,es):#xu xi-1\n",
    "    aHasil=[]\n",
    "    aError=[]\n",
    "    error=100\n",
    "    i=0\n",
    "    \n",
    "    while (error > es):\n",
    "            data_append=xi-((f(xi)*(xu-xi))/(f(xu)-f(xi)))\n",
    "            xu=xi\n",
    "            xi=data_append\n",
    "            aHasil.append(data_append)\n",
    "            \n",
    "            if(i!=0):\n",
    "                error=hitung_error(aHasil[i],aHasil[i-1])\n",
    "                aError.append(error)\n",
    "                \n",
    "\n",
    "            i += 1\n",
    "    \n",
    "    return (aHasil,aError,i)\n",
    "    "
   ]
  },
  {
   "cell_type": "code",
   "execution_count": 33,
   "metadata": {},
   "outputs": [
    {
     "name": "stdout",
     "output_type": "stream",
     "text": [
      "[]\n",
      "[]\n",
      "0\n"
     ]
    }
   ],
   "source": [
    "#(hasil,error,i)=Metode_secant(f,1,0,0.5)\n",
    "(hasil,error,i)=Metode_secant(f,1,2.5,0.5)\n",
    "print (hasil)\n",
    "print (error)\n",
    "print(i)"
   ]
  },
  {
   "cell_type": "code",
   "execution_count": 8,
   "metadata": {},
   "outputs": [],
   "source": [
    "Data_Pupuk=[12,25,35,50,70,85,90,110]\n",
    "Data_Padi=[3.6501,32.8507,90.0887,262.5707,720.3967,1289.779,1531.023,2795.249]"
   ]
  },
  {
   "cell_type": "code",
   "execution_count": 13,
   "metadata": {},
   "outputs": [],
   "source": [
    "def InterPolasi_Linear(x,x0,x1,data_x0,data_x1,data_x):\n",
    "    \n",
    "    Hasil=data_x0+(((data_x1-data_x0)/(x1-x0))*(x-x0))\n",
    "    \n",
    "    Error=((data_x-Hasil)/data_x)*100\n",
    "    \n",
    "    return (Hasil,Error)\n",
    "\n",
    "    \n",
    "    "
   ]
  },
  {
   "cell_type": "code",
   "execution_count": 14,
   "metadata": {},
   "outputs": [
    {
     "name": "stdout",
     "output_type": "stream",
     "text": [
      "560.1576\n",
      "-6.658897990426242\n"
     ]
    }
   ],
   "source": [
    "(hasil,error)=InterPolasi_Linear(63,50,70,262.5707,720.3967,525.186)\n",
    "print(hasil)\n",
    "print(error)"
   ]
  },
  {
   "cell_type": "code",
   "execution_count": 20,
   "metadata": {},
   "outputs": [],
   "source": [
    "def InterPolasi_kuadratik(x,x0,x1,x2,data_x0,data_x1,data_x2,data_x):\n",
    "    #temporary\n",
    "    b0=data_x0;\n",
    "    b1=(data_x1-data_x0)/(x1-x0)\n",
    "    b2=(((data_x2-data_x1)/(x2-x1))-((data_x1-data_x0)/(x1-x0)))/(x2-x0)\n",
    "    \n",
    "    Hasil=b0+(b1*(x-x0))+(b2*(x-x0)*(x-x1))\n",
    "    \n",
    "    Error=((data_x-Hasil)/data_x)*100\n",
    "    \n",
    "    return (Hasil,Error)\n",
    "    "
   ]
  },
  {
   "cell_type": "code",
   "execution_count": 21,
   "metadata": {},
   "outputs": [
    {
     "name": "stdout",
     "output_type": "stream",
     "text": [
      "520.982048\n",
      "0.800469167114141\n"
     ]
    }
   ],
   "source": [
    "(Hasil,Error)=InterPolasi_kuadratik(63,50,70,85,262.5707,720.3967,1289.779,525.186)\n",
    "print(Hasil)\n",
    "print(Error)"
   ]
  },
  {
   "cell_type": "code",
   "execution_count": null,
   "metadata": {},
   "outputs": [],
   "source": []
  }
 ],
 "metadata": {
  "kernelspec": {
   "display_name": "Python 3",
   "language": "python",
   "name": "python3"
  },
  "language_info": {
   "codemirror_mode": {
    "name": "ipython",
    "version": 3
   },
   "file_extension": ".py",
   "mimetype": "text/x-python",
   "name": "python",
   "nbconvert_exporter": "python",
   "pygments_lexer": "ipython3",
   "version": "3.7.0"
  }
 },
 "nbformat": 4,
 "nbformat_minor": 2
}
