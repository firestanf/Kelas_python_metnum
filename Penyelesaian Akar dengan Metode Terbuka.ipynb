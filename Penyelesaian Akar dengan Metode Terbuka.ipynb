{
 "cells": [
  {
   "cell_type": "code",
   "execution_count": 1,
   "metadata": {},
   "outputs": [],
   "source": [
    "from __future__ import division\n",
    "import numpy as np\n",
    "import matplotlib.pyplot as plt\n",
    "%matplotlib inline"
   ]
  },
  {
   "cell_type": "code",
   "execution_count": 2,
   "metadata": {},
   "outputs": [],
   "source": [
    "def hitung_error(error_sekarang,error_sebelumnya):\n",
    "    return abs(error_sekarang-error_sebelumnya)/error_sekarang * 100;"
   ]
  },
  {
   "cell_type": "code",
   "execution_count": 3,
   "metadata": {},
   "outputs": [],
   "source": [
    "f = lambda x : x * np.exp(-x / 2) - 0.5"
   ]
  },
  {
   "cell_type": "code",
   "execution_count": 4,
   "metadata": {},
   "outputs": [],
   "source": [
    "df = lambda x : np.exp(-x/2)*(1-(1/2)*x)"
   ]
  },
  {
   "cell_type": "code",
   "execution_count": 5,
   "metadata": {},
   "outputs": [],
   "source": [
    "def newton_rapshon(f,df,xi,es):\n",
    "    aHasil=[]\n",
    "    aError=[]\n",
    "    error=100\n",
    "    i=0\n",
    "    \n",
    "    while(error > es):\n",
    "            hasil = xi-(f(xi)/df(xi))\n",
    "            aHasil.append(hasil)\n",
    "            xi=hasil\n",
    "            \n",
    "            if(i != 0):\n",
    "                error=hitung_error(aHasil[i],aHasil[i-1])\n",
    "                aError.append(error)\n",
    "            \n",
    "            i+=1\n",
    "        \n",
    "    return (aHasil,aError,i)"
   ]
  },
  {
   "cell_type": "code",
   "execution_count": 6,
   "metadata": {},
   "outputs": [
    {
     "name": "stdout",
     "output_type": "stream",
     "text": [
      "[0.5, 0.6893502777918277, 0.7143994861519026]\n",
      "[27.467933776478194, 3.5063306799115965]\n"
     ]
    }
   ],
   "source": [
    "(hasil,error,i)=newton_rapshon(f,df,0,5)\n",
    "print (hasil)\n",
    "print (error)"
   ]
  },
  {
   "cell_type": "code",
   "execution_count": 7,
   "metadata": {},
   "outputs": [
    {
     "data": {
      "text/plain": [
       "Text(0,0.5,'Error (%)')"
      ]
     },
     "execution_count": 7,
     "metadata": {},
     "output_type": "execute_result"
    },
    {
     "data": {
      "image/png": "[encoded data removed]",
      "text/plain": [
       "<Figure size 432x288 with 2 Axes>"
      ]
     },
     "metadata": {
      "needs_background": "light"
     },
     "output_type": "display_data"
    }
   ],
   "source": [
    "(hasil,error,i)=newton_rapshon(f,df,0,0.05)\n",
    "\n",
    "\n",
    "plt.subplot(211)\n",
    "plt.plot(range(1,len(hasil)+1),hasil,'bo-')\n",
    "plt.ylabel(\"xi\")\n",
    "\n",
    "plt.subplot(212)\n",
    "plt.plot(range(2,len(hasil)+1),error,'rs-')\n",
    "plt.xlabel(\"Iterasi\")\n",
    "plt.ylabel(\"Error (%)\")"
   ]
  },
  {
   "cell_type": "code",
   "execution_count": null,
   "metadata": {},
   "outputs": [],
   "source": []
  }
 ],
 "metadata": {
  "kernelspec": {
   "display_name": "Python 3",
   "language": "python",
   "name": "python3"
  },
  "language_info": {
   "codemirror_mode": {
    "name": "ipython",
    "version": 3
   },
   "file_extension": ".py",
   "mimetype": "text/x-python",
   "name": "python",
   "nbconvert_exporter": "python",
   "pygments_lexer": "ipython3",
   "version": "3.7.0"
  }
 },
 "nbformat": 4,
 "nbformat_minor": 2
}
